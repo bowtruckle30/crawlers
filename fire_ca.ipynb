{
 "cells": [
  {
   "cell_type": "code",
   "execution_count": 1,
   "metadata": {},
   "outputs": [],
   "source": [
    "from bs4 import BeautifulSoup\n",
    "import requests"
   ]
  },
  {
   "cell_type": "code",
   "execution_count": 2,
   "metadata": {},
   "outputs": [],
   "source": [
    "website_url = 'https://www.fire.ca.gov/incidents'\n",
    "response = requests.get(website_url)\n",
    "html_doc = response.text\n",
    "soup = BeautifulSoup(html_doc, 'html.parser')"
   ]
  },
  {
   "cell_type": "code",
   "execution_count": 23,
   "metadata": {},
   "outputs": [
    {
     "name": "stdout",
     "output_type": "stream",
     "text": [
      "['Link', 'Incident', 'Counties', 'Started', 'Acres', 'Containment']\n"
     ]
    }
   ],
   "source": [
    "table = soup.find('table', attrs={'id':'incidents'})\n",
    "headers = table.find('thead')\n",
    "header_cells = headers.find_all('th')\n",
    "columns = ['Link']\n",
    "for th in header_cells:\n",
    "    columns.append(th.text)\n",
    "print(columns)\n"
   ]
  },
  {
   "cell_type": "code",
   "execution_count": 25,
   "metadata": {},
   "outputs": [
    {
     "name": "stdout",
     "output_type": "stream",
     "text": [
      "['https://www.fire.ca.gov/incidents/2023/10/14/king-fire', 'King Fire', 'Madera', '10/14/2023', 'https://www.fs.usda.gov/sierra', '']\n",
      "['https://www.fire.ca.gov/incidents/2023/10/12/avenales-fire', 'Avenales Fire', 'San Luis Obispo', '10/12/2023', 'https://www.fs.usda.gov/main/lpnf/fire', '']\n",
      "['https://www.fire.ca.gov/incidents/2023/8/20/srf-lightning-complex', 'SRF Lightning Complex', 'Humboldt', '8/20/2023', 'https://inciweb.nwcg.gov/incident-information/casrf-2023-srf-lightning-complex-and-redwood-lightning-complex', '']\n",
      "['https://www.fire.ca.gov/incidents/2023/8/16/happy-camp-complex', 'Happy Camp Complex', 'Siskiyou', '8/16/2023', 'https://inciweb.nwcg.gov/incident-information/caknf-2023-happy-camp-complex-klamath-nf', '']\n",
      "['https://www.fire.ca.gov/incidents/2023/8/16/deep-fire', 'Deep Fire', 'Trinity', '8/16/2023', 'https://inciweb.nwcg.gov/incident-information/cashf-deep-fire', '']\n",
      "['https://www.fire.ca.gov/incidents/2023/8/16/klamath-national-forest-lightning-complex', 'Klamath National Forest Lightning Complex', 'Siskiyou', '8/16/2023', 'https://inciweb.wildfire.gov/incident-information/caknf-2023-klamath-national-forest-lightning-fires', '']\n",
      "['https://www.fire.ca.gov/incidents/2023/8/15/south-fork-complex', 'South Fork Complex', 'Humboldt', '8/15/2023', 'https://inciweb.nwcg.gov/incident-information/cashf-south-fork-complex', '']\n",
      "['https://www.fire.ca.gov/incidents/2023/8/15/smith-river-complex', 'Smith River Complex', 'Del Norte', '8/15/2023', 'https://inciweb.nwcg.gov/incident-information/casrf-smith-river-complex-', '']\n"
     ]
    }
   ],
   "source": [
    "table_body = table.find('tbody')\n",
    "rows = table_body.find_all('tr')\n",
    "data = []\n",
    "prefix_url = 'https://www.fire.ca.gov'\n",
    "\n",
    "for row in rows:\n",
    "    curr = []\n",
    "    incident_th = row.find('th')\n",
    "    lnk = incident_th.find('a')\n",
    "    curr.append(prefix_url + lnk['href'])\n",
    "    curr.append(incident_th.text.strip())\n",
    "\n",
    "    cols = row.find_all('td')\n",
    "    for ele in cols:\n",
    "        lnk = ele.find('a')\n",
    "        if lnk:\n",
    "            lnk = lnk['href']\n",
    "            curr.append(lnk)\n",
    "        else:\n",
    "            curr.append(ele.text.strip())\n",
    "    data.append(curr)\n",
    "\n",
    "\n",
    "for i in data:\n",
    "    print(i)\n",
    "    "
   ]
  },
  {
   "cell_type": "code",
   "execution_count": 26,
   "metadata": {},
   "outputs": [
    {
     "data": {
      "text/html": [
       "<div>\n",
       "<style scoped>\n",
       "    .dataframe tbody tr th:only-of-type {\n",
       "        vertical-align: middle;\n",
       "    }\n",
       "\n",
       "    .dataframe tbody tr th {\n",
       "        vertical-align: top;\n",
       "    }\n",
       "\n",
       "    .dataframe thead th {\n",
       "        text-align: right;\n",
       "    }\n",
       "</style>\n",
       "<table border=\"1\" class=\"dataframe\">\n",
       "  <thead>\n",
       "    <tr style=\"text-align: right;\">\n",
       "      <th></th>\n",
       "      <th>Link</th>\n",
       "      <th>Incident</th>\n",
       "      <th>Counties</th>\n",
       "      <th>Started</th>\n",
       "      <th>Acres</th>\n",
       "      <th>Containment</th>\n",
       "    </tr>\n",
       "  </thead>\n",
       "  <tbody>\n",
       "    <tr>\n",
       "      <th>0</th>\n",
       "      <td>https://www.fire.ca.gov/incidents/2023/10/14/k...</td>\n",
       "      <td>King Fire</td>\n",
       "      <td>Madera</td>\n",
       "      <td>10/14/2023</td>\n",
       "      <td>https://www.fs.usda.gov/sierra</td>\n",
       "      <td></td>\n",
       "    </tr>\n",
       "    <tr>\n",
       "      <th>1</th>\n",
       "      <td>https://www.fire.ca.gov/incidents/2023/10/12/a...</td>\n",
       "      <td>Avenales Fire</td>\n",
       "      <td>San Luis Obispo</td>\n",
       "      <td>10/12/2023</td>\n",
       "      <td>https://www.fs.usda.gov/main/lpnf/fire</td>\n",
       "      <td></td>\n",
       "    </tr>\n",
       "    <tr>\n",
       "      <th>2</th>\n",
       "      <td>https://www.fire.ca.gov/incidents/2023/8/20/sr...</td>\n",
       "      <td>SRF Lightning Complex</td>\n",
       "      <td>Humboldt</td>\n",
       "      <td>8/20/2023</td>\n",
       "      <td>https://inciweb.nwcg.gov/incident-information/...</td>\n",
       "      <td></td>\n",
       "    </tr>\n",
       "    <tr>\n",
       "      <th>3</th>\n",
       "      <td>https://www.fire.ca.gov/incidents/2023/8/16/ha...</td>\n",
       "      <td>Happy Camp Complex</td>\n",
       "      <td>Siskiyou</td>\n",
       "      <td>8/16/2023</td>\n",
       "      <td>https://inciweb.nwcg.gov/incident-information/...</td>\n",
       "      <td></td>\n",
       "    </tr>\n",
       "    <tr>\n",
       "      <th>4</th>\n",
       "      <td>https://www.fire.ca.gov/incidents/2023/8/16/de...</td>\n",
       "      <td>Deep Fire</td>\n",
       "      <td>Trinity</td>\n",
       "      <td>8/16/2023</td>\n",
       "      <td>https://inciweb.nwcg.gov/incident-information/...</td>\n",
       "      <td></td>\n",
       "    </tr>\n",
       "  </tbody>\n",
       "</table>\n",
       "</div>"
      ],
      "text/plain": [
       "                                                Link               Incident  \\\n",
       "0  https://www.fire.ca.gov/incidents/2023/10/14/k...              King Fire   \n",
       "1  https://www.fire.ca.gov/incidents/2023/10/12/a...          Avenales Fire   \n",
       "2  https://www.fire.ca.gov/incidents/2023/8/20/sr...  SRF Lightning Complex   \n",
       "3  https://www.fire.ca.gov/incidents/2023/8/16/ha...     Happy Camp Complex   \n",
       "4  https://www.fire.ca.gov/incidents/2023/8/16/de...              Deep Fire   \n",
       "\n",
       "          Counties     Started  \\\n",
       "0           Madera  10/14/2023   \n",
       "1  San Luis Obispo  10/12/2023   \n",
       "2         Humboldt   8/20/2023   \n",
       "3         Siskiyou   8/16/2023   \n",
       "4          Trinity   8/16/2023   \n",
       "\n",
       "                                               Acres Containment  \n",
       "0                     https://www.fs.usda.gov/sierra              \n",
       "1             https://www.fs.usda.gov/main/lpnf/fire              \n",
       "2  https://inciweb.nwcg.gov/incident-information/...              \n",
       "3  https://inciweb.nwcg.gov/incident-information/...              \n",
       "4  https://inciweb.nwcg.gov/incident-information/...              "
      ]
     },
     "execution_count": 26,
     "metadata": {},
     "output_type": "execute_result"
    }
   ],
   "source": [
    "import pandas as pd\n",
    "df = pd.DataFrame(data=data, columns=columns)\n",
    "df.to_csv('fire_ca.csv', header=True, index=False)\n",
    "df.head(5)"
   ]
  }
 ],
 "metadata": {
  "kernelspec": {
   "display_name": "Python 3",
   "language": "python",
   "name": "python3"
  },
  "language_info": {
   "codemirror_mode": {
    "name": "ipython",
    "version": 3
   },
   "file_extension": ".py",
   "mimetype": "text/x-python",
   "name": "python",
   "nbconvert_exporter": "python",
   "pygments_lexer": "ipython3",
   "version": "3.11.0"
  }
 },
 "nbformat": 4,
 "nbformat_minor": 2
}
